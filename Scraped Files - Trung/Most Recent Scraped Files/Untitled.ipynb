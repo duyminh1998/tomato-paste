{
 "cells": [
  {
   "cell_type": "code",
   "execution_count": 5,
   "metadata": {},
   "outputs": [
    {
     "name": "stdout",
     "output_type": "stream",
     "text": [
      "9462\n"
     ]
    }
   ],
   "source": [
    "from bs4 import BeautifulSoup\n",
    "import requests\n",
    "import pandas as pd\n",
    "import random\n",
    "\n",
    "df = pd.DataFrame(columns = [\"dataIndex\", \"realTitle\", \"criticsConcensus\", \"tomatoMeter\", \"tomatoCount\", \n",
    "            \"audienceScore\", \"audienceCount\", \"realSynopsis\", \"rating\", \"genreString\", \n",
    "            \"directedBy\", \"studio\", \"runTime\", \"cast\"])\n",
    "\n",
    "data = pd.read_csv(\"combined_csv.csv\", error_bad_lines=False, dtype='unicode')\n",
    "\n",
    "\n",
    "\n",
    "j = 0\n",
    "for i in range(0, len(data)):\n",
    "    if(data.at[i,\"tomatoMeter\"] == 'nothing'):\n",
    "        j += 1;\n",
    "#         df.at[j, \"realTitle\"] = data.at[i,\"realTitle\"]\n",
    "#         df.at[j, \"criticsConcensus\"] = data.at[i,\"criticsConcensus\"]\n",
    "#         df.at[j, \"tomatoMeter\"] = data.at[i,\"tomatoMeter\"]\n",
    "#         df.at[j, \"tomatoCount\"] = data.at[j, \"tomatoCount\"]\n",
    "#         df.at[j, \"audienceScore\"] = data.at[j, \"audienceScore\"]\n",
    "#         df.at[j, \"audienceCount\"] = data.at[j, \"audienceCount\"]\n",
    "#         df.at[j, \"realSynopsis\"] = data.at[j, \"realSynopsis\"]\n",
    "#         df.at[j, \"rating\"] = data.at[j, \"rating\"]\n",
    "#         df.at[j, \"genreString\"] = data.at[j, \"genreString\"]\n",
    "#         df.at[j, \"directedBy\"] = data.at[j, \"directedBy\"]\n",
    "#         df.at[j, \"studio\"] = data.at[j, \"studio\"]\n",
    "#         df.at[j, \"runTime\"] = data.at[j, \"runTime\"]\n",
    "#         df.at[j, \"cast\"] = data.at[j, \"cast\"]\n",
    "#         df.at[j, \"dataIndex\"] = i\n",
    "#         j += 1\n",
    "print(str(j))\n",
    "# len(df)\n"
   ]
  },
  {
   "cell_type": "code",
   "execution_count": 2,
   "metadata": {},
   "outputs": [
    {
     "data": {
      "text/plain": [
       "909"
      ]
     },
     "execution_count": 2,
     "metadata": {},
     "output_type": "execute_result"
    }
   ],
   "source": [
    "len(df)"
   ]
  },
  {
   "cell_type": "code",
   "execution_count": null,
   "metadata": {},
   "outputs": [],
   "source": []
  }
 ],
 "metadata": {
  "kernelspec": {
   "display_name": "Python 3",
   "language": "python",
   "name": "python3"
  },
  "language_info": {
   "codemirror_mode": {
    "name": "ipython",
    "version": 3
   },
   "file_extension": ".py",
   "mimetype": "text/x-python",
   "name": "python",
   "nbconvert_exporter": "python",
   "pygments_lexer": "ipython3",
   "version": "3.7.4"
  }
 },
 "nbformat": 4,
 "nbformat_minor": 2
}
